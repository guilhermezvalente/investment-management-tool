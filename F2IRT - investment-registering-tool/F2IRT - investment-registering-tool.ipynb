{
 "cells": [
  {
   "cell_type": "code",
   "execution_count": 9,
   "metadata": {},
   "outputs": [],
   "source": [
    "import sqlite3\n",
    "\n",
    "def get_operations():\n",
    "    connection = sqlite3.connect(\"database/operations.db\")\n",
    "    cursor = connection.cursor()\n",
    "    cursor.execute(\"SELECT * FROM operations\")\n",
    "    results = cursor.fetchall()\n",
    "    connection.close()\n",
    "    return results\n"
   ]
  },
  {
   "cell_type": "code",
   "execution_count": 11,
   "metadata": {},
   "outputs": [
    {
     "name": "stdout",
     "output_type": "stream",
     "text": [
      "(1, 'BBAS3', '2025-01-27', 26.8, 10, 0.3, 0.1, '2025-01-27 10:31:59')\n",
      "(2, 'VALE3', '2025-01-27', 60.02, 10, 0.3, 0.1, '2025-01-27 10:44:43')\n",
      "(3, 'XPML11', '2025-01-27', 107.3, 10, 0.3, 0.1, '2025-01-27 11:02:55')\n"
     ]
    }
   ],
   "source": [
    "from utils import get_operations\n",
    "\n",
    "# Obtendo os registros da database\n",
    "operations = get_operations()\n",
    "\n",
    "# Exibindo os registros\n",
    "for op in operations:\n",
    "    print(op)\n"
   ]
  },
  {
   "cell_type": "code",
   "execution_count": 12,
   "metadata": {},
   "outputs": [
    {
     "data": {
      "text/plain": [
       "[(1, 'BBAS3', '2025-01-27', 26.8, 10, 0.3, 0.1, '2025-01-27 10:31:59'),\n",
       " (2, 'VALE3', '2025-01-27', 60.02, 10, 0.3, 0.1, '2025-01-27 10:44:43'),\n",
       " (3, 'XPML11', '2025-01-27', 107.3, 10, 0.3, 0.1, '2025-01-27 11:02:55')]"
      ]
     },
     "execution_count": 12,
     "metadata": {},
     "output_type": "execute_result"
    }
   ],
   "source": [
    "operations"
   ]
  }
 ],
 "metadata": {
  "kernelspec": {
   "display_name": "Python 3",
   "language": "python",
   "name": "python3"
  },
  "language_info": {
   "codemirror_mode": {
    "name": "ipython",
    "version": 3
   },
   "file_extension": ".py",
   "mimetype": "text/x-python",
   "name": "python",
   "nbconvert_exporter": "python",
   "pygments_lexer": "ipython3",
   "version": "3.13.1"
  }
 },
 "nbformat": 4,
 "nbformat_minor": 2
}
